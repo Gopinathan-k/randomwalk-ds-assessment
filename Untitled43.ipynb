{
 "cells": [
  {
   "cell_type": "code",
   "execution_count": 107,
   "id": "2a152f78",
   "metadata": {},
   "outputs": [],
   "source": [
    "import pandas as pd\n",
    "import matplotlib.pyplot as plt"
   ]
  },
  {
   "cell_type": "code",
   "execution_count": 108,
   "id": "b211bf1e",
   "metadata": {},
   "outputs": [],
   "source": [
    "books_data = pd.read_csv(\"books.csv\")"
   ]
  },
  {
   "cell_type": "code",
   "execution_count": 109,
   "id": "7eb311ac",
   "metadata": {},
   "outputs": [],
   "source": [
    "rows,column=books_data.shape"
   ]
  },
  {
   "cell_type": "markdown",
   "id": "a9d4d45f",
   "metadata": {},
   "source": [
    "# 1. How many rows and columns are there in books.csv dataset?\n",
    "\n"
   ]
  },
  {
   "cell_type": "code",
   "execution_count": 22,
   "id": "1bbfa07d",
   "metadata": {},
   "outputs": [
    {
     "name": "stdout",
     "output_type": "stream",
     "text": [
      " Rows: 399, Columns: 24 \n"
     ]
    }
   ],
   "source": [
    "print(f\" Rows: {rows}, Columns: {column} \")"
   ]
  },
  {
   "cell_type": "markdown",
   "id": "9302e3db",
   "metadata": {},
   "source": [
    "# 2. How many books do not have an original title?"
   ]
  },
  {
   "cell_type": "code",
   "execution_count": 27,
   "id": "ab616eaf",
   "metadata": {},
   "outputs": [
    {
     "name": "stdout",
     "output_type": "stream",
     "text": [
      " count of books with original titles:  36\n"
     ]
    }
   ],
   "source": [
    "number=print(\" count of books with original titles: \", books_data['original_title'].isnull().sum())"
   ]
  },
  {
   "cell_type": "markdown",
   "id": "0a0cc809",
   "metadata": {},
   "source": [
    "# 3. How many unique books are present in the dataset ? Evaluate based on the 'book_id' after removing null values in the original_title column."
   ]
  },
  {
   "cell_type": "code",
   "execution_count": 30,
   "id": "ce9610c4",
   "metadata": {},
   "outputs": [],
   "source": [
    "books=books_data.dropna(subset=['original_title'])"
   ]
  },
  {
   "cell_type": "code",
   "execution_count": 51,
   "id": "fe9fe8be",
   "metadata": {},
   "outputs": [
    {
     "name": "stdout",
     "output_type": "stream",
     "text": [
      " count of unique books is 363\n"
     ]
    }
   ],
   "source": [
    "print(\" count of unique books is\", books[\"book_id\"].nunique())"
   ]
  },
  {
   "cell_type": "markdown",
   "id": "145246d6",
   "metadata": {},
   "source": [
    "# 4. What is the average rating of all the books in the dataset based on ‘average_rating’"
   ]
  },
  {
   "cell_type": "code",
   "execution_count": 54,
   "id": "6cbc5634",
   "metadata": {},
   "outputs": [
    {
     "name": "stdout",
     "output_type": "stream",
     "text": [
      "average rating of all the books in the dataset based on ‘average_rating:  3.9837844611528843\n"
     ]
    }
   ],
   "source": [
    "\n",
    "print(\"average rating of all the books in the dataset based on ‘average_rating: \", books_data[\"average_rating\"].mean())"
   ]
  },
  {
   "cell_type": "markdown",
   "id": "2758889b",
   "metadata": {},
   "source": [
    "# 5.  Find the number of books published in the year ‘2000’ based on the ‘original_publication_year’"
   ]
  },
  {
   "cell_type": "code",
   "execution_count": 63,
   "id": "99fc3a20",
   "metadata": {},
   "outputs": [],
   "source": [
    "newbook=books_data[books_data[\"original_publication_year\"]==2000]\n"
   ]
  },
  {
   "cell_type": "code",
   "execution_count": 70,
   "id": "4c5ec024",
   "metadata": {},
   "outputs": [
    {
     "name": "stdout",
     "output_type": "stream",
     "text": [
      "count of books published in 2008 is: 8\n"
     ]
    }
   ],
   "source": [
    "print(\"count of books published in 2008 is:\",newbook[\"book_id\"].count())"
   ]
  },
  {
   "cell_type": "markdown",
   "id": "50f63739",
   "metadata": {},
   "source": [
    "# 6. Which book (title) has the maximum number of ratings based on ‘work_ratings_count’."
   ]
  },
  {
   "cell_type": "code",
   "execution_count": 96,
   "id": "37eb88d6",
   "metadata": {},
   "outputs": [],
   "source": [
    "max_ratings_book_title = books_data.loc[books_data['work_ratings_count'].idxmax(), 'title']\n"
   ]
  },
  {
   "cell_type": "code",
   "execution_count": 103,
   "id": "75d0e556",
   "metadata": {},
   "outputs": [
    {
     "name": "stdout",
     "output_type": "stream",
     "text": [
      "the book with maximum number of rating based on work_ratings_count is : The Diary of a Young Girl\n"
     ]
    }
   ],
   "source": [
    "print( \"the book with maximum number of rating based on work_ratings_count is :\" ,max_ratings_book_title)"
   ]
  },
  {
   "cell_type": "markdown",
   "id": "067eac2d",
   "metadata": {},
   "source": [
    "# 7. Bucket the average_rating of books into 11 buckets [0, 0.5, 1.0, 1.5, 2.0, 2.5, 3.0, 3.5, 4.0, 4.5, 5.0] with 0.5 decimal rounding (eg: average_rating 3.0 to 3.49 will fall in bucket 3.0). Plot bar graph to show total number of books in each rating bucket."
   ]
  },
  {
   "cell_type": "code",
   "execution_count": 105,
   "id": "fa3ff6be",
   "metadata": {},
   "outputs": [
    {
     "data": {
      "image/png": "[encoded data removed]",
      "text/plain": [
       "<Figure size 432x288 with 1 Axes>"
      ]
     },
     "metadata": {
      "needs_background": "light"
     },
     "output_type": "display_data"
    }
   ],
   "source": [
    "rating_buckets = [0, 0.5, 1.0, 1.5, 2.0, 2.5, 3.0, 3.5, 4.0, 4.5, 5.0]\n",
    "books_data['rating_bucket'] = pd.cut(books_data['average_rating'], bins=rating_buckets, right=False)\n",
    "rating_counts = books_data['rating_bucket'].value_counts().sort_index()\n",
    "\n",
    "plt.bar(rating_counts.index.astype(str), rating_counts.values)\n",
    "plt.xlabel('rating buckets')\n",
    "plt.ylabel('number of books')\n",
    "plt.title('number of nooks in each rating bucket')\n",
    "plt.show()"
   ]
  },
  {
   "cell_type": "code",
   "execution_count": null,
   "id": "e33a2541",
   "metadata": {},
   "outputs": [],
   "source": []
  }
 ],
 "metadata": {
  "kernelspec": {
   "display_name": "Python 3",
   "language": "python",
   "name": "python3"
  },
  "language_info": {
   "codemirror_mode": {
    "name": "ipython",
    "version": 3
   },
   "file_extension": ".py",
   "mimetype": "text/x-python",
   "name": "python",
   "nbconvert_exporter": "python",
   "pygments_lexer": "ipython3",
   "version": "3.8.8"
  }
 },
 "nbformat": 4,
 "nbformat_minor": 5
}
